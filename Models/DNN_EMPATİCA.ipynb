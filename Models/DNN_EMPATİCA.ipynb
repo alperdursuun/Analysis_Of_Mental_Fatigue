{
 "cells": [
  {
   "cell_type": "code",
   "execution_count": 1,
   "id": "8f60007d",
   "metadata": {},
   "outputs": [],
   "source": [
    "from sklearn.metrics import confusion_matrix\n",
    "import numpy as np\n",
    "import seaborn as sns\n",
    "from scipy.stats import entropy\n",
    "import pandas as pd\n",
    "from sklearn.model_selection import train_test_split\n",
    "from sklearn.preprocessing import StandardScaler\n",
    "import matplotlib.pyplot as plt\n",
    "import scipy\n",
    "from sklearn import metrics\n",
    "from sklearn.metrics import accuracy_score\n",
    "from keras.layers import SimpleRNN\n",
    "from tensorflow.keras.layers import Dense, Activation, Flatten, Dropout\n",
    "from tensorflow.keras.layers import Input, Dropout, LSTM\n",
    "from tensorflow.keras.layers import Bidirectional,BatchNormalization\n",
    "from tensorflow.keras.layers import PReLU,ReLU,Reshape\n",
    "from sklearn.metrics import classification_report\n",
    "from tensorflow.keras.models import Sequential, Model, load_model\n",
    "from tensorflow.keras.callbacks import EarlyStopping, ModelCheckpoint\n",
    "from sklearn.model_selection import cross_val_score\n",
    "from tensorflow.keras.layers import Conv1D,Conv2D,Add\n",
    "from tensorflow.keras.layers import MaxPool1D, MaxPooling2D\n",
    "from tensorflow import keras\n",
    "from tensorflow.keras import callbacks,layers\n",
    "import random\n",
    "from sklearn.utils import resample\n",
    "from tensorflow.keras.utils import plot_model"
   ]
  },
  {
   "cell_type": "code",
   "execution_count": 2,
   "id": "a477b14a",
   "metadata": {},
   "outputs": [],
   "source": [
    "Empatica = pd.read_csv(\"BVP_ACC_EDA_TEMP.csv\", low_memory=False)"
   ]
  },
  {
   "cell_type": "code",
   "execution_count": 3,
   "id": "067c6bb1",
   "metadata": {
    "scrolled": false
   },
   "outputs": [
    {
     "data": {
      "text/html": [
       "<div>\n",
       "<style scoped>\n",
       "    .dataframe tbody tr th:only-of-type {\n",
       "        vertical-align: middle;\n",
       "    }\n",
       "\n",
       "    .dataframe tbody tr th {\n",
       "        vertical-align: top;\n",
       "    }\n",
       "\n",
       "    .dataframe thead th {\n",
       "        text-align: right;\n",
       "    }\n",
       "</style>\n",
       "<table border=\"1\" class=\"dataframe\">\n",
       "  <thead>\n",
       "    <tr style=\"text-align: right;\">\n",
       "      <th></th>\n",
       "      <th>BVP</th>\n",
       "      <th>status</th>\n",
       "      <th>ACC_x</th>\n",
       "      <th>ACC_y</th>\n",
       "      <th>ACC_z</th>\n",
       "      <th>EDA</th>\n",
       "      <th>TEMP</th>\n",
       "    </tr>\n",
       "  </thead>\n",
       "  <tbody>\n",
       "    <tr>\n",
       "      <th>0</th>\n",
       "      <td>52.20</td>\n",
       "      <td>0</td>\n",
       "      <td>6</td>\n",
       "      <td>2</td>\n",
       "      <td>65</td>\n",
       "      <td>1.676214</td>\n",
       "      <td>35.55</td>\n",
       "    </tr>\n",
       "    <tr>\n",
       "      <th>1</th>\n",
       "      <td>49.83</td>\n",
       "      <td>0</td>\n",
       "      <td>6</td>\n",
       "      <td>2</td>\n",
       "      <td>65</td>\n",
       "      <td>1.676214</td>\n",
       "      <td>35.55</td>\n",
       "    </tr>\n",
       "    <tr>\n",
       "      <th>2</th>\n",
       "      <td>44.65</td>\n",
       "      <td>0</td>\n",
       "      <td>6</td>\n",
       "      <td>2</td>\n",
       "      <td>65</td>\n",
       "      <td>1.676214</td>\n",
       "      <td>35.55</td>\n",
       "    </tr>\n",
       "    <tr>\n",
       "      <th>3</th>\n",
       "      <td>35.26</td>\n",
       "      <td>0</td>\n",
       "      <td>6</td>\n",
       "      <td>2</td>\n",
       "      <td>65</td>\n",
       "      <td>1.676214</td>\n",
       "      <td>35.55</td>\n",
       "    </tr>\n",
       "    <tr>\n",
       "      <th>4</th>\n",
       "      <td>22.66</td>\n",
       "      <td>0</td>\n",
       "      <td>6</td>\n",
       "      <td>2</td>\n",
       "      <td>65</td>\n",
       "      <td>1.676214</td>\n",
       "      <td>35.55</td>\n",
       "    </tr>\n",
       "    <tr>\n",
       "      <th>...</th>\n",
       "      <td>...</td>\n",
       "      <td>...</td>\n",
       "      <td>...</td>\n",
       "      <td>...</td>\n",
       "      <td>...</td>\n",
       "      <td>...</td>\n",
       "      <td>...</td>\n",
       "    </tr>\n",
       "    <tr>\n",
       "      <th>287995</th>\n",
       "      <td>5.81</td>\n",
       "      <td>1</td>\n",
       "      <td>-51</td>\n",
       "      <td>-13</td>\n",
       "      <td>-37</td>\n",
       "      <td>0.171678</td>\n",
       "      <td>34.09</td>\n",
       "    </tr>\n",
       "    <tr>\n",
       "      <th>287996</th>\n",
       "      <td>6.03</td>\n",
       "      <td>1</td>\n",
       "      <td>-51</td>\n",
       "      <td>-13</td>\n",
       "      <td>-37</td>\n",
       "      <td>0.171678</td>\n",
       "      <td>34.09</td>\n",
       "    </tr>\n",
       "    <tr>\n",
       "      <th>287997</th>\n",
       "      <td>6.17</td>\n",
       "      <td>1</td>\n",
       "      <td>-51</td>\n",
       "      <td>-13</td>\n",
       "      <td>-37</td>\n",
       "      <td>0.171678</td>\n",
       "      <td>34.09</td>\n",
       "    </tr>\n",
       "    <tr>\n",
       "      <th>287998</th>\n",
       "      <td>6.30</td>\n",
       "      <td>1</td>\n",
       "      <td>-51</td>\n",
       "      <td>-13</td>\n",
       "      <td>-37</td>\n",
       "      <td>0.171678</td>\n",
       "      <td>34.09</td>\n",
       "    </tr>\n",
       "    <tr>\n",
       "      <th>287999</th>\n",
       "      <td>6.48</td>\n",
       "      <td>1</td>\n",
       "      <td>-51</td>\n",
       "      <td>-13</td>\n",
       "      <td>-37</td>\n",
       "      <td>0.171678</td>\n",
       "      <td>34.09</td>\n",
       "    </tr>\n",
       "  </tbody>\n",
       "</table>\n",
       "<p>288000 rows × 7 columns</p>\n",
       "</div>"
      ],
      "text/plain": [
       "          BVP  status  ACC_x  ACC_y  ACC_z       EDA   TEMP\n",
       "0       52.20       0      6      2     65  1.676214  35.55\n",
       "1       49.83       0      6      2     65  1.676214  35.55\n",
       "2       44.65       0      6      2     65  1.676214  35.55\n",
       "3       35.26       0      6      2     65  1.676214  35.55\n",
       "4       22.66       0      6      2     65  1.676214  35.55\n",
       "...       ...     ...    ...    ...    ...       ...    ...\n",
       "287995   5.81       1    -51    -13    -37  0.171678  34.09\n",
       "287996   6.03       1    -51    -13    -37  0.171678  34.09\n",
       "287997   6.17       1    -51    -13    -37  0.171678  34.09\n",
       "287998   6.30       1    -51    -13    -37  0.171678  34.09\n",
       "287999   6.48       1    -51    -13    -37  0.171678  34.09\n",
       "\n",
       "[288000 rows x 7 columns]"
      ]
     },
     "execution_count": 3,
     "metadata": {},
     "output_type": "execute_result"
    }
   ],
   "source": [
    "Empatica"
   ]
  },
  {
   "cell_type": "code",
   "execution_count": 5,
   "id": "fcdb649f",
   "metadata": {},
   "outputs": [],
   "source": [
    "to_drop = ['ACC_x', 'ACC_y', 'ACC_z']\n",
    "Empatica.drop(to_drop, axis=1, inplace=True)"
   ]
  },
  {
   "cell_type": "code",
   "execution_count": 6,
   "id": "ad36a72c",
   "metadata": {},
   "outputs": [
    {
     "data": {
      "text/html": [
       "<div>\n",
       "<style scoped>\n",
       "    .dataframe tbody tr th:only-of-type {\n",
       "        vertical-align: middle;\n",
       "    }\n",
       "\n",
       "    .dataframe tbody tr th {\n",
       "        vertical-align: top;\n",
       "    }\n",
       "\n",
       "    .dataframe thead th {\n",
       "        text-align: right;\n",
       "    }\n",
       "</style>\n",
       "<table border=\"1\" class=\"dataframe\">\n",
       "  <thead>\n",
       "    <tr style=\"text-align: right;\">\n",
       "      <th></th>\n",
       "      <th>BVP</th>\n",
       "      <th>status</th>\n",
       "      <th>EDA</th>\n",
       "      <th>TEMP</th>\n",
       "    </tr>\n",
       "  </thead>\n",
       "  <tbody>\n",
       "    <tr>\n",
       "      <th>0</th>\n",
       "      <td>52.20</td>\n",
       "      <td>0</td>\n",
       "      <td>1.676214</td>\n",
       "      <td>35.55</td>\n",
       "    </tr>\n",
       "    <tr>\n",
       "      <th>1</th>\n",
       "      <td>49.83</td>\n",
       "      <td>0</td>\n",
       "      <td>1.676214</td>\n",
       "      <td>35.55</td>\n",
       "    </tr>\n",
       "    <tr>\n",
       "      <th>2</th>\n",
       "      <td>44.65</td>\n",
       "      <td>0</td>\n",
       "      <td>1.676214</td>\n",
       "      <td>35.55</td>\n",
       "    </tr>\n",
       "    <tr>\n",
       "      <th>3</th>\n",
       "      <td>35.26</td>\n",
       "      <td>0</td>\n",
       "      <td>1.676214</td>\n",
       "      <td>35.55</td>\n",
       "    </tr>\n",
       "    <tr>\n",
       "      <th>4</th>\n",
       "      <td>22.66</td>\n",
       "      <td>0</td>\n",
       "      <td>1.676214</td>\n",
       "      <td>35.55</td>\n",
       "    </tr>\n",
       "    <tr>\n",
       "      <th>...</th>\n",
       "      <td>...</td>\n",
       "      <td>...</td>\n",
       "      <td>...</td>\n",
       "      <td>...</td>\n",
       "    </tr>\n",
       "    <tr>\n",
       "      <th>287995</th>\n",
       "      <td>5.81</td>\n",
       "      <td>1</td>\n",
       "      <td>0.171678</td>\n",
       "      <td>34.09</td>\n",
       "    </tr>\n",
       "    <tr>\n",
       "      <th>287996</th>\n",
       "      <td>6.03</td>\n",
       "      <td>1</td>\n",
       "      <td>0.171678</td>\n",
       "      <td>34.09</td>\n",
       "    </tr>\n",
       "    <tr>\n",
       "      <th>287997</th>\n",
       "      <td>6.17</td>\n",
       "      <td>1</td>\n",
       "      <td>0.171678</td>\n",
       "      <td>34.09</td>\n",
       "    </tr>\n",
       "    <tr>\n",
       "      <th>287998</th>\n",
       "      <td>6.30</td>\n",
       "      <td>1</td>\n",
       "      <td>0.171678</td>\n",
       "      <td>34.09</td>\n",
       "    </tr>\n",
       "    <tr>\n",
       "      <th>287999</th>\n",
       "      <td>6.48</td>\n",
       "      <td>1</td>\n",
       "      <td>0.171678</td>\n",
       "      <td>34.09</td>\n",
       "    </tr>\n",
       "  </tbody>\n",
       "</table>\n",
       "<p>288000 rows × 4 columns</p>\n",
       "</div>"
      ],
      "text/plain": [
       "          BVP  status       EDA   TEMP\n",
       "0       52.20       0  1.676214  35.55\n",
       "1       49.83       0  1.676214  35.55\n",
       "2       44.65       0  1.676214  35.55\n",
       "3       35.26       0  1.676214  35.55\n",
       "4       22.66       0  1.676214  35.55\n",
       "...       ...     ...       ...    ...\n",
       "287995   5.81       1  0.171678  34.09\n",
       "287996   6.03       1  0.171678  34.09\n",
       "287997   6.17       1  0.171678  34.09\n",
       "287998   6.30       1  0.171678  34.09\n",
       "287999   6.48       1  0.171678  34.09\n",
       "\n",
       "[288000 rows x 4 columns]"
      ]
     },
     "execution_count": 6,
     "metadata": {},
     "output_type": "execute_result"
    }
   ],
   "source": [
    "Empatica"
   ]
  },
  {
   "cell_type": "code",
   "execution_count": 7,
   "id": "16100590",
   "metadata": {},
   "outputs": [
    {
     "data": {
      "text/plain": [
       "<AxesSubplot:>"
      ]
     },
     "execution_count": 7,
     "metadata": {},
     "output_type": "execute_result"
    },
    {
     "data": {
      "image/png": "[encoded data removed]",
      "text/plain": [
       "<Figure size 864x864 with 2 Axes>"
      ]
     },
     "metadata": {
      "needs_background": "light"
     },
     "output_type": "display_data"
    }
   ],
   "source": [
    "plt.figure(figsize = (12,12))\n",
    "cor_matrix = Empatica.corr()\n",
    "sns.heatmap(cor_matrix,annot=True)"
   ]
  },
  {
   "cell_type": "code",
   "execution_count": 9,
   "id": "2a3ce94c",
   "metadata": {},
   "outputs": [],
   "source": [
    "y = Empatica.pop('status')\n",
    "X = Empatica"
   ]
  },
  {
   "cell_type": "code",
   "execution_count": 10,
   "id": "bb5d251b",
   "metadata": {},
   "outputs": [],
   "source": [
    "from sklearn.preprocessing import StandardScaler\n",
    "X = StandardScaler().fit_transform(X)"
   ]
  },
  {
   "cell_type": "code",
   "execution_count": 11,
   "id": "62868014",
   "metadata": {},
   "outputs": [],
   "source": [
    "from sklearn.model_selection import train_test_split\n",
    "x_train,x_test,y_train,y_test = train_test_split(X, y, test_size=0.15)"
   ]
  },
  {
   "cell_type": "code",
   "execution_count": 12,
   "id": "a3d55247",
   "metadata": {},
   "outputs": [],
   "source": [
    "model2 = keras.Sequential()\n",
    "model2.add(layers.Dense(32, input_shape=(3,), activation='relu'))\n",
    "model2.add(layers.Dense(64, activation='relu'))\n",
    "model2.add(layers.Dense(64, activation='relu'))\n",
    "model2.add(layers.Dense(1, activation='sigmoid'))\n",
    "\n",
    "model2.compile(optimizer='adam', loss='binary_crossentropy',metrics='accuracy')"
   ]
  },
  {
   "cell_type": "code",
   "execution_count": 13,
   "id": "2cc87ef3",
   "metadata": {},
   "outputs": [
    {
     "name": "stdout",
     "output_type": "stream",
     "text": [
      "Epoch 1/20\n",
      "1913/1913 [==============================] - 3s 1ms/step - loss: 0.5327 - accuracy: 0.7173 - val_loss: 0.4901 - val_accuracy: 0.7406\n",
      "Epoch 2/20\n",
      "1913/1913 [==============================] - 2s 962us/step - loss: 0.4660 - accuracy: 0.7586 - val_loss: 0.4459 - val_accuracy: 0.7734\n",
      "Epoch 3/20\n",
      "1913/1913 [==============================] - 2s 974us/step - loss: 0.4321 - accuracy: 0.7798 - val_loss: 0.4226 - val_accuracy: 0.7938\n",
      "Epoch 4/20\n",
      "1913/1913 [==============================] - 2s 1ms/step - loss: 0.3976 - accuracy: 0.8104 - val_loss: 0.3907 - val_accuracy: 0.8235\n",
      "Epoch 5/20\n",
      "1913/1913 [==============================] - 2s 989us/step - loss: 0.3629 - accuracy: 0.8335 - val_loss: 0.3697 - val_accuracy: 0.8236\n",
      "Epoch 6/20\n",
      "1913/1913 [==============================] - 2s 996us/step - loss: 0.3411 - accuracy: 0.8460 - val_loss: 0.3390 - val_accuracy: 0.8531\n",
      "Epoch 7/20\n",
      "1913/1913 [==============================] - 2s 1ms/step - loss: 0.3242 - accuracy: 0.8551 - val_loss: 0.3231 - val_accuracy: 0.8642\n",
      "Epoch 8/20\n",
      "1913/1913 [==============================] - 2s 960us/step - loss: 0.3126 - accuracy: 0.8618 - val_loss: 0.3258 - val_accuracy: 0.8557\n",
      "Epoch 9/20\n",
      "1913/1913 [==============================] - 2s 987us/step - loss: 0.3034 - accuracy: 0.8666 - val_loss: 0.2981 - val_accuracy: 0.8672\n",
      "Epoch 10/20\n",
      "1913/1913 [==============================] - 2s 1ms/step - loss: 0.2954 - accuracy: 0.8719 - val_loss: 0.2910 - val_accuracy: 0.8718\n",
      "Epoch 11/20\n",
      "1913/1913 [==============================] - 2s 947us/step - loss: 0.2884 - accuracy: 0.8750 - val_loss: 0.2993 - val_accuracy: 0.8679\n",
      "Epoch 12/20\n",
      "1913/1913 [==============================] - 2s 975us/step - loss: 0.2833 - accuracy: 0.8774 - val_loss: 0.2882 - val_accuracy: 0.8720\n",
      "Epoch 13/20\n",
      "1913/1913 [==============================] - 2s 968us/step - loss: 0.2764 - accuracy: 0.8809 - val_loss: 0.2879 - val_accuracy: 0.8686\n",
      "Epoch 14/20\n",
      "1913/1913 [==============================] - 2s 1ms/step - loss: 0.2717 - accuracy: 0.8831 - val_loss: 0.2803 - val_accuracy: 0.8802\n",
      "Epoch 15/20\n",
      "1913/1913 [==============================] - 2s 984us/step - loss: 0.2671 - accuracy: 0.8849 - val_loss: 0.2828 - val_accuracy: 0.8790\n",
      "Epoch 16/20\n",
      "1913/1913 [==============================] - 2s 1ms/step - loss: 0.2626 - accuracy: 0.8870 - val_loss: 0.2764 - val_accuracy: 0.8828\n",
      "Epoch 17/20\n",
      "1913/1913 [==============================] - 2s 1ms/step - loss: 0.2584 - accuracy: 0.8889 - val_loss: 0.2583 - val_accuracy: 0.8876\n",
      "Epoch 18/20\n",
      "1913/1913 [==============================] - 2s 948us/step - loss: 0.2530 - accuracy: 0.8911 - val_loss: 0.2490 - val_accuracy: 0.8931\n",
      "Epoch 19/20\n",
      "1913/1913 [==============================] - 2s 971us/step - loss: 0.2501 - accuracy: 0.8929 - val_loss: 0.2478 - val_accuracy: 0.8925\n",
      "Epoch 20/20\n",
      "1913/1913 [==============================] - 2s 964us/step - loss: 0.2450 - accuracy: 0.8952 - val_loss: 0.2785 - val_accuracy: 0.8693\n"
     ]
    }
   ],
   "source": [
    "call=callbacks.EarlyStopping(patience=10,min_delta=0.0001,restore_best_weights=True)\n",
    "\n",
    "history = model2.fit(x_train, y_train, validation_data=(x_test, y_test), epochs=20, batch_size=128)"
   ]
  },
  {
   "cell_type": "code",
   "execution_count": 15,
   "id": "ac2b4b20",
   "metadata": {},
   "outputs": [
    {
     "data": {
      "image/png": "[encoded data removed]",
      "text/plain": [
       "<Figure size 432x288 with 1 Axes>"
      ]
     },
     "metadata": {
      "needs_background": "light"
     },
     "output_type": "display_data"
    },
    {
     "data": {
      "image/png": "[encoded data removed]",
      "text/plain": [
       "<Figure size 432x288 with 1 Axes>"
      ]
     },
     "metadata": {
      "needs_background": "light"
     },
     "output_type": "display_data"
    }
   ],
   "source": [
    "plt.plot(history.history['accuracy'])\n",
    "plt.plot(history.history['val_accuracy'])\n",
    "plt.title('model accuracy')\n",
    "plt.ylabel('accuracy')\n",
    "plt.xlabel('epoch')\n",
    "plt.legend(['train', 'test'], loc='upper left')\n",
    "plt.savefig(\"empatica_acc_dnn.png\")\n",
    "plt.show()\n",
    "plt.plot(history.history['loss'])\n",
    "plt.plot(history.history['val_loss'])\n",
    "plt.title('model loss')\n",
    "plt.ylabel('loss')\n",
    "plt.xlabel('epoch')\n",
    "plt.legend(['train', 'test'], loc='upper left')\n",
    "plt.savefig(\"empatica_loss_dnn.png\")\n",
    "plt.show()"
   ]
  },
  {
   "cell_type": "code",
   "execution_count": null,
   "id": "555a7fd4",
   "metadata": {},
   "outputs": [],
   "source": []
  }
 ],
 "metadata": {
  "kernelspec": {
   "display_name": "Python 3 (ipykernel)",
   "language": "python",
   "name": "python3"
  },
  "language_info": {
   "codemirror_mode": {
    "name": "ipython",
    "version": 3
   },
   "file_extension": ".py",
   "mimetype": "text/x-python",
   "name": "python",
   "nbconvert_exporter": "python",
   "pygments_lexer": "ipython3",
   "version": "3.9.12"
  }
 },
 "nbformat": 4,
 "nbformat_minor": 5
}
