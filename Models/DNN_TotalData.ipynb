{
 "cells": [
  {
   "cell_type": "code",
   "execution_count": 1,
   "id": "d3a8b695",
   "metadata": {},
   "outputs": [],
   "source": [
    "from sklearn.metrics import confusion_matrix\n",
    "import numpy as np\n",
    "import seaborn as sns\n",
    "from scipy.stats import entropy\n",
    "import pandas as pd\n",
    "from sklearn.model_selection import train_test_split\n",
    "from sklearn.preprocessing import StandardScaler\n",
    "import matplotlib.pyplot as plt\n",
    "import scipy\n",
    "from sklearn import metrics\n",
    "from sklearn.metrics import accuracy_score\n",
    "from keras.layers import SimpleRNN\n",
    "from tensorflow.keras.layers import Dense, Activation, Flatten, Dropout\n",
    "from tensorflow.keras.layers import Input, Dropout, LSTM\n",
    "from tensorflow.keras.layers import Bidirectional,BatchNormalization\n",
    "from tensorflow.keras.layers import PReLU,ReLU,Reshape\n",
    "from sklearn.metrics import classification_report\n",
    "from tensorflow.keras.models import Sequential, Model, load_model\n",
    "from tensorflow.keras.callbacks import EarlyStopping, ModelCheckpoint\n",
    "from sklearn.model_selection import cross_val_score\n",
    "from tensorflow.keras.layers import Conv1D,Conv2D,Add\n",
    "from tensorflow.keras.layers import MaxPool1D, MaxPooling2D\n",
    "from tensorflow import keras\n",
    "from tensorflow.keras import callbacks,layers\n",
    "import random\n",
    "from sklearn.utils import resample\n",
    "from tensorflow.keras.utils import plot_model\n",
    "from tensorflow.keras.optimizers import SGD"
   ]
  },
  {
   "cell_type": "code",
   "execution_count": 2,
   "id": "3b03f2a4",
   "metadata": {},
   "outputs": [],
   "source": [
    "data = pd.read_csv(\"Dataset_Combined.csv\", low_memory=False)"
   ]
  },
  {
   "cell_type": "code",
   "execution_count": 3,
   "id": "0f3f6e10",
   "metadata": {},
   "outputs": [],
   "source": [
    "to_drop = ['ACC_x', 'ACC_y', 'ACC_z']"
   ]
  },
  {
   "cell_type": "code",
   "execution_count": 4,
   "id": "61673eea",
   "metadata": {},
   "outputs": [],
   "source": [
    "data.drop(to_drop, axis=1, inplace=True)"
   ]
  },
  {
   "cell_type": "code",
   "execution_count": 5,
   "id": "23de627c",
   "metadata": {},
   "outputs": [],
   "source": [
    "y = data.pop('status')\n",
    "X = data"
   ]
  },
  {
   "cell_type": "code",
   "execution_count": 6,
   "id": "a4b9e4e3",
   "metadata": {},
   "outputs": [],
   "source": [
    "from sklearn.preprocessing import StandardScaler\n",
    "X = StandardScaler().fit_transform(X)"
   ]
  },
  {
   "cell_type": "code",
   "execution_count": 7,
   "id": "61370683",
   "metadata": {},
   "outputs": [],
   "source": [
    "X_train, x_test, y_train, y_test = train_test_split(X, y, random_state=123, test_size=0.2)\n",
    "X_train = np.array(X_train).reshape(-1,12,1)\n",
    "x_test = np.array(x_test).reshape(-1,12,1)"
   ]
  },
  {
   "cell_type": "code",
   "execution_count": 8,
   "id": "b56120da",
   "metadata": {},
   "outputs": [],
   "source": [
    "model2 = keras.Sequential()\n",
    "model2.add(layers.Dense(32, input_shape=(12,), activation='relu'))\n",
    "model2.add(layers.Dense(32, activation='relu'))\n",
    "model2.add(layers.Dense(1, activation='sigmoid'))\n",
    "model2.compile(optimizer='adam', loss='binary_crossentropy',metrics='accuracy')"
   ]
  },
  {
   "cell_type": "code",
   "execution_count": 9,
   "id": "a8bb1e7c",
   "metadata": {},
   "outputs": [
    {
     "name": "stdout",
     "output_type": "stream",
     "text": [
      "Epoch 1/15\n",
      "3600/3600 [==============================] - 4s 828us/step - loss: 0.5646 - accuracy: 0.6932 - val_loss: 0.5138 - val_accuracy: 0.7309\n",
      "Epoch 2/15\n",
      "3600/3600 [==============================] - 3s 788us/step - loss: 0.4933 - accuracy: 0.7482 - val_loss: 0.4743 - val_accuracy: 0.7630\n",
      "Epoch 3/15\n",
      "3600/3600 [==============================] - 3s 790us/step - loss: 0.4633 - accuracy: 0.7654 - val_loss: 0.4561 - val_accuracy: 0.7626\n",
      "Epoch 4/15\n",
      "3600/3600 [==============================] - 3s 791us/step - loss: 0.4417 - accuracy: 0.7797 - val_loss: 0.4307 - val_accuracy: 0.7903\n",
      "Epoch 5/15\n",
      "3600/3600 [==============================] - 3s 789us/step - loss: 0.4230 - accuracy: 0.7919 - val_loss: 0.4161 - val_accuracy: 0.7991\n",
      "Epoch 6/15\n",
      "3600/3600 [==============================] - 3s 792us/step - loss: 0.4087 - accuracy: 0.8009 - val_loss: 0.4131 - val_accuracy: 0.7982\n",
      "Epoch 7/15\n",
      "3600/3600 [==============================] - 3s 827us/step - loss: 0.3969 - accuracy: 0.8086 - val_loss: 0.3911 - val_accuracy: 0.8131\n",
      "Epoch 8/15\n",
      "3600/3600 [==============================] - 3s 806us/step - loss: 0.3858 - accuracy: 0.8146 - val_loss: 0.3780 - val_accuracy: 0.8188\n",
      "Epoch 9/15\n",
      "3600/3600 [==============================] - 3s 792us/step - loss: 0.3746 - accuracy: 0.8213 - val_loss: 0.3705 - val_accuracy: 0.8231\n",
      "Epoch 10/15\n",
      "3600/3600 [==============================] - 3s 790us/step - loss: 0.3660 - accuracy: 0.8268 - val_loss: 0.3656 - val_accuracy: 0.8283\n",
      "Epoch 11/15\n",
      "3600/3600 [==============================] - 3s 793us/step - loss: 0.3573 - accuracy: 0.8316 - val_loss: 0.3534 - val_accuracy: 0.8366\n",
      "Epoch 12/15\n",
      "3600/3600 [==============================] - 3s 797us/step - loss: 0.3498 - accuracy: 0.8361 - val_loss: 0.3452 - val_accuracy: 0.8417\n",
      "Epoch 13/15\n",
      "3600/3600 [==============================] - 3s 795us/step - loss: 0.3424 - accuracy: 0.8405 - val_loss: 0.3362 - val_accuracy: 0.8455\n",
      "Epoch 14/15\n",
      "3600/3600 [==============================] - 3s 789us/step - loss: 0.3347 - accuracy: 0.8449 - val_loss: 0.3304 - val_accuracy: 0.8471\n",
      "Epoch 15/15\n",
      "3600/3600 [==============================] - 3s 790us/step - loss: 0.3285 - accuracy: 0.8481 - val_loss: 0.3213 - val_accuracy: 0.8552\n"
     ]
    }
   ],
   "source": [
    "es = EarlyStopping(monitor='val_loss', mode='min', verbose=1, patience=5)\n",
    "history = model2.fit(X_train, y_train, validation_data=(x_test, y_test), epochs=15, batch_size=64, callbacks=[es])"
   ]
  },
  {
   "cell_type": "code",
   "execution_count": 11,
   "id": "bf4807c9",
   "metadata": {},
   "outputs": [
    {
     "data": {
      "image/png": "[encoded data removed]",
      "text/plain": [
       "<Figure size 432x288 with 1 Axes>"
      ]
     },
     "metadata": {
      "needs_background": "light"
     },
     "output_type": "display_data"
    },
    {
     "data": {
      "image/png": "[encoded data removed]",
      "text/plain": [
       "<Figure size 432x288 with 1 Axes>"
      ]
     },
     "metadata": {
      "needs_background": "light"
     },
     "output_type": "display_data"
    }
   ],
   "source": [
    "plt.plot(history.history['accuracy'])\n",
    "plt.plot(history.history['val_accuracy'])\n",
    "plt.title('model accuracy')\n",
    "plt.ylabel('accuracy')\n",
    "plt.xlabel('epoch')\n",
    "plt.legend(['train', 'test'], loc='upper left')\n",
    "plt.savefig(\"acc_dnn_total.png\")\n",
    "plt.show()\n",
    "# summarize history for loss\n",
    "plt.plot(history.history['loss'])\n",
    "plt.plot(history.history['val_loss'])\n",
    "plt.title('model loss')\n",
    "plt.ylabel('loss')\n",
    "plt.xlabel('epoch')\n",
    "plt.legend(['train', 'test'], loc='upper left')\n",
    "plt.savefig(\"loss_dnn_total.png\")\n",
    "plt.show()"
   ]
  }
 ],
 "metadata": {
  "kernelspec": {
   "display_name": "Python 3 (ipykernel)",
   "language": "python",
   "name": "python3"
  },
  "language_info": {
   "codemirror_mode": {
    "name": "ipython",
    "version": 3
   },
   "file_extension": ".py",
   "mimetype": "text/x-python",
   "name": "python",
   "nbconvert_exporter": "python",
   "pygments_lexer": "ipython3",
   "version": "3.9.12"
  }
 },
 "nbformat": 4,
 "nbformat_minor": 5
}
