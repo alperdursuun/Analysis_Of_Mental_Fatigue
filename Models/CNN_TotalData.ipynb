{
 "cells": [
  {
   "cell_type": "code",
   "execution_count": 1,
   "id": "afc2436b",
   "metadata": {},
   "outputs": [],
   "source": [
    "from sklearn.metrics import confusion_matrix\n",
    "import numpy as np\n",
    "import seaborn as sns\n",
    "from scipy.stats import entropy\n",
    "import pandas as pd\n",
    "from sklearn.model_selection import train_test_split\n",
    "from sklearn.preprocessing import StandardScaler\n",
    "import matplotlib.pyplot as plt\n",
    "import scipy\n",
    "from sklearn import metrics\n",
    "from sklearn.metrics import accuracy_score\n",
    "from keras.layers import SimpleRNN\n",
    "from tensorflow.keras.layers import Dense, Activation, Flatten, Dropout\n",
    "from tensorflow.keras.layers import Input, Dropout, LSTM\n",
    "from tensorflow.keras.layers import Bidirectional,BatchNormalization\n",
    "from tensorflow.keras.layers import PReLU,ReLU,Reshape\n",
    "from sklearn.metrics import classification_report\n",
    "from tensorflow.keras.models import Sequential, Model, load_model\n",
    "from tensorflow.keras.callbacks import EarlyStopping, ModelCheckpoint\n",
    "from sklearn.model_selection import cross_val_score\n",
    "from tensorflow.keras.layers import Conv1D,Conv2D,Add\n",
    "from tensorflow.keras.layers import MaxPool1D, MaxPooling2D\n",
    "from tensorflow import keras\n",
    "from tensorflow.keras import callbacks,layers\n",
    "import random\n",
    "from sklearn.utils import resample\n",
    "from tensorflow.keras.utils import plot_model"
   ]
  },
  {
   "cell_type": "code",
   "execution_count": 2,
   "id": "91126609",
   "metadata": {},
   "outputs": [],
   "source": [
    "data = pd.read_csv(\"Dataset_Combined.csv\", low_memory=False)"
   ]
  },
  {
   "cell_type": "code",
   "execution_count": 3,
   "id": "383bcd5a",
   "metadata": {},
   "outputs": [],
   "source": [
    "to_drop = ['ACC_x', 'ACC_y', 'ACC_z']"
   ]
  },
  {
   "cell_type": "code",
   "execution_count": 4,
   "id": "03a304d3",
   "metadata": {},
   "outputs": [],
   "source": [
    "data.drop(to_drop, axis=1, inplace=True)"
   ]
  },
  {
   "cell_type": "code",
   "execution_count": 5,
   "id": "91136700",
   "metadata": {},
   "outputs": [],
   "source": [
    "y = data.pop('status')\n",
    "X = data"
   ]
  },
  {
   "cell_type": "code",
   "execution_count": 6,
   "id": "da58d023",
   "metadata": {},
   "outputs": [],
   "source": [
    "from sklearn.preprocessing import StandardScaler\n",
    "X = StandardScaler().fit_transform(X)"
   ]
  },
  {
   "cell_type": "code",
   "execution_count": 7,
   "id": "1c4aa5a7",
   "metadata": {},
   "outputs": [],
   "source": [
    "x_train,x_test,y_train,y_test = train_test_split(X, y, test_size=0.2)"
   ]
  },
  {
   "cell_type": "code",
   "execution_count": 8,
   "id": "f3a88e9a",
   "metadata": {},
   "outputs": [],
   "source": [
    "from keras.layers import Conv1D, MaxPooling1D, Flatten, Dense\n",
    "from keras.models import Sequential\n",
    "\n",
    "model = Sequential()\n",
    "model.add(Conv1D(filters=32, kernel_size=2, activation='relu', input_shape=(12, 1)))\n",
    "model.add(MaxPooling1D(pool_size=2))\n",
    "model.add(Dense(64, activation='relu'))\n",
    "model.add(MaxPooling1D(pool_size=2))\n",
    "#model.add(Dropout(0.3))\n",
    "#model.add(Flatten())\n",
    "model.add(Dense(128, activation='relu'))\n",
    "model.add(Dense(1, activation='sigmoid'))\n",
    "\n",
    "model.compile(loss='binary_crossentropy', optimizer='adam', metrics=['accuracy'])"
   ]
  },
  {
   "cell_type": "code",
   "execution_count": 9,
   "id": "79e5f442",
   "metadata": {
    "scrolled": false
   },
   "outputs": [
    {
     "name": "stdout",
     "output_type": "stream",
     "text": [
      "Epoch 1/20\n",
      "3600/3600 [==============================] - 6s 1ms/step - loss: 0.6690 - accuracy: 0.6023 - val_loss: 0.6630 - val_accuracy: 0.6065\n",
      "Epoch 2/20\n",
      "3600/3600 [==============================] - 5s 1ms/step - loss: 0.6550 - accuracy: 0.6162 - val_loss: 0.6465 - val_accuracy: 0.6215\n",
      "Epoch 3/20\n",
      "3600/3600 [==============================] - 5s 1ms/step - loss: 0.6340 - accuracy: 0.6383 - val_loss: 0.6315 - val_accuracy: 0.6407\n",
      "Epoch 4/20\n",
      "3600/3600 [==============================] - 5s 1ms/step - loss: 0.6126 - accuracy: 0.6575 - val_loss: 0.6054 - val_accuracy: 0.6659\n",
      "Epoch 5/20\n",
      "3600/3600 [==============================] - 5s 1ms/step - loss: 0.5868 - accuracy: 0.6806 - val_loss: 0.5756 - val_accuracy: 0.6951\n",
      "Epoch 6/20\n",
      "3600/3600 [==============================] - 5s 1ms/step - loss: 0.5595 - accuracy: 0.7021 - val_loss: 0.5579 - val_accuracy: 0.7039\n",
      "Epoch 7/20\n",
      "3600/3600 [==============================] - 5s 1ms/step - loss: 0.5325 - accuracy: 0.7222 - val_loss: 0.5259 - val_accuracy: 0.7263\n",
      "Epoch 8/20\n",
      "3600/3600 [==============================] - 5s 1ms/step - loss: 0.5051 - accuracy: 0.7416 - val_loss: 0.4897 - val_accuracy: 0.7538\n",
      "Epoch 9/20\n",
      "3600/3600 [==============================] - 5s 1ms/step - loss: 0.4790 - accuracy: 0.7599 - val_loss: 0.4680 - val_accuracy: 0.7678\n",
      "Epoch 10/20\n",
      "3600/3600 [==============================] - 6s 2ms/step - loss: 0.4540 - accuracy: 0.7755 - val_loss: 0.4660 - val_accuracy: 0.7576\n",
      "Epoch 11/20\n",
      "3600/3600 [==============================] - 5s 1ms/step - loss: 0.4317 - accuracy: 0.7889 - val_loss: 0.4248 - val_accuracy: 0.7934\n",
      "Epoch 12/20\n",
      "3600/3600 [==============================] - 5s 1ms/step - loss: 0.4130 - accuracy: 0.7997 - val_loss: 0.4054 - val_accuracy: 0.8008\n",
      "Epoch 13/20\n",
      "3600/3600 [==============================] - 5s 1ms/step - loss: 0.3955 - accuracy: 0.8090 - val_loss: 0.3892 - val_accuracy: 0.8151\n",
      "Epoch 14/20\n",
      "3600/3600 [==============================] - 5s 1ms/step - loss: 0.3788 - accuracy: 0.8191 - val_loss: 0.3629 - val_accuracy: 0.8271\n",
      "Epoch 15/20\n",
      "3600/3600 [==============================] - 5s 1ms/step - loss: 0.3626 - accuracy: 0.8273 - val_loss: 0.3690 - val_accuracy: 0.8229\n",
      "Epoch 16/20\n",
      "3600/3600 [==============================] - 5s 1ms/step - loss: 0.3484 - accuracy: 0.8361 - val_loss: 0.3506 - val_accuracy: 0.8342\n",
      "Epoch 17/20\n",
      "3600/3600 [==============================] - 5s 1ms/step - loss: 0.3358 - accuracy: 0.8421 - val_loss: 0.3503 - val_accuracy: 0.8290\n",
      "Epoch 18/20\n",
      "3600/3600 [==============================] - 5s 1ms/step - loss: 0.3235 - accuracy: 0.8487 - val_loss: 0.3377 - val_accuracy: 0.8414\n",
      "Epoch 19/20\n",
      "3600/3600 [==============================] - 5s 1ms/step - loss: 0.3131 - accuracy: 0.8550 - val_loss: 0.3028 - val_accuracy: 0.8605\n",
      "Epoch 20/20\n",
      "3600/3600 [==============================] - 5s 1ms/step - loss: 0.3008 - accuracy: 0.8611 - val_loss: 0.3062 - val_accuracy: 0.8589\n"
     ]
    }
   ],
   "source": [
    "es = EarlyStopping(monitor='val_loss', mode='min', verbose=1, patience=3)\n",
    "history = model.fit(x_train, y_train, validation_data=(x_test, y_test), epochs=20, batch_size=64, callbacks=[es])"
   ]
  },
  {
   "cell_type": "code",
   "execution_count": 11,
   "id": "32047bea",
   "metadata": {},
   "outputs": [
    {
     "data": {
      "image/png": "[encoded data removed]",
      "text/plain": [
       "<Figure size 432x288 with 1 Axes>"
      ]
     },
     "metadata": {
      "needs_background": "light"
     },
     "output_type": "display_data"
    },
    {
     "data": {
      "image/png": "[encoded data removed]",
      "text/plain": [
       "<Figure size 432x288 with 1 Axes>"
      ]
     },
     "metadata": {
      "needs_background": "light"
     },
     "output_type": "display_data"
    }
   ],
   "source": [
    "plt.plot(history.history['accuracy'])\n",
    "plt.plot(history.history['val_accuracy'])\n",
    "plt.title('model accuracy')\n",
    "plt.ylabel('accuracy')\n",
    "plt.xlabel('epoch')\n",
    "plt.legend(['train', 'test'], loc='upper left')\n",
    "plt.savefig(\"acc_cnn_total.png\")\n",
    "plt.show()\n",
    "plt.plot(history.history['loss'])\n",
    "plt.plot(history.history['val_loss'])\n",
    "plt.title('model loss')\n",
    "plt.ylabel('loss')\n",
    "plt.xlabel('epoch')\n",
    "plt.legend(['train', 'test'], loc='upper left')\n",
    "plt.savefig(\"loss_cnn_total.png\")\n",
    "plt.show()"
   ]
  },
  {
   "cell_type": "code",
   "execution_count": null,
   "id": "05ec2263",
   "metadata": {},
   "outputs": [],
   "source": []
  }
 ],
 "metadata": {
  "kernelspec": {
   "display_name": "Python 3 (ipykernel)",
   "language": "python",
   "name": "python3"
  },
  "language_info": {
   "codemirror_mode": {
    "name": "ipython",
    "version": 3
   },
   "file_extension": ".py",
   "mimetype": "text/x-python",
   "name": "python",
   "nbconvert_exporter": "python",
   "pygments_lexer": "ipython3",
   "version": "3.9.12"
  }
 },
 "nbformat": 4,
 "nbformat_minor": 5
}
