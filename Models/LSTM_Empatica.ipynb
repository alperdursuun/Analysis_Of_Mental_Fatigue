{
 "cells": [
  {
   "cell_type": "code",
   "execution_count": 1,
   "id": "048235ae",
   "metadata": {},
   "outputs": [],
   "source": [
    "import tensorflow.compat.v1 as tf\n",
    "from sklearn.metrics import confusion_matrix\n",
    "import numpy as np\n",
    "from scipy.io import loadmat\n",
    "import os\n",
    "from pywt import wavedec\n",
    "from functools import reduce\n",
    "from scipy import signal\n",
    "from scipy.stats import entropy\n",
    "from scipy.fft import fft, ifft\n",
    "import pandas as pd\n",
    "from sklearn.model_selection import train_test_split, StratifiedKFold\n",
    "from sklearn.preprocessing import StandardScaler\n",
    "from tensorflow import keras as K\n",
    "import matplotlib.pyplot as plt\n",
    "import scipy\n",
    "from sklearn import metrics\n",
    "from sklearn.ensemble import RandomForestClassifier\n",
    "from sklearn.neighbors import KNeighborsClassifier\n",
    "from sklearn.svm import SVC\n",
    "from sklearn.metrics import accuracy_score\n",
    "from sklearn.model_selection import KFold,cross_validate\n",
    "from tensorflow.keras.layers import Dense, Activation, Flatten, concatenate, Input, Dropout, LSTM, Bidirectional,BatchNormalization,PReLU,ReLU,Reshape\n",
    "from keras.wrappers.scikit_learn import KerasClassifier\n",
    "from sklearn.metrics import classification_report\n",
    "from tensorflow.keras.models import Sequential, Model, load_model\n",
    "import matplotlib.pyplot as plt;\n",
    "from tensorflow.keras.callbacks import EarlyStopping, ModelCheckpoint\n",
    "from sklearn.decomposition import PCA\n",
    "from tensorflow import keras\n",
    "from sklearn.model_selection import cross_val_score\n",
    "from tensorflow.keras.layers import Conv1D,Conv2D,Add\n",
    "from tensorflow.keras.layers import MaxPool1D, MaxPooling2D\n",
    "import seaborn as sns\n",
    "import tensorflow as tf\n",
    "from tensorflow import keras\n",
    "from tensorflow.keras import callbacks,layers\n",
    "import random\n",
    "from sklearn.model_selection import GridSearchCV\n",
    "from tensorflow.keras.layers import Dense, Flatten, LSTM, Bidirectional, Input, Dropout, InputLayer, BatchNormalization\n",
    "from tensorflow.keras.utils import plot_model"
   ]
  },
  {
   "cell_type": "code",
   "execution_count": 2,
   "id": "c1cb9a58",
   "metadata": {},
   "outputs": [],
   "source": [
    "Empatica = pd.read_csv(\"BVP_ACC_EDA_TEMP.csv\", low_memory=False)"
   ]
  },
  {
   "cell_type": "code",
   "execution_count": 3,
   "id": "f0ccee5e",
   "metadata": {},
   "outputs": [],
   "source": [
    "to_drop = ['ACC_x', 'ACC_y', 'ACC_z']\n",
    "Empatica.drop(to_drop, axis=1, inplace=True)"
   ]
  },
  {
   "cell_type": "code",
   "execution_count": 4,
   "id": "4f3fc6e1",
   "metadata": {},
   "outputs": [],
   "source": [
    "y = Empatica.pop('status')\n",
    "X = Empatica"
   ]
  },
  {
   "cell_type": "code",
   "execution_count": 5,
   "id": "6da27c38",
   "metadata": {},
   "outputs": [],
   "source": [
    "X = StandardScaler().fit_transform(X)"
   ]
  },
  {
   "cell_type": "code",
   "execution_count": 6,
   "id": "a4f3363f",
   "metadata": {},
   "outputs": [],
   "source": [
    "X_train, x_test, y_train, y_test = train_test_split(X, y, test_size=0.3)\n",
    "X_train = np.array(X_train).reshape(-1,3,1)\n",
    "x_test = np.array(x_test).reshape(-1,3,1)"
   ]
  },
  {
   "cell_type": "code",
   "execution_count": 7,
   "id": "a0101087",
   "metadata": {},
   "outputs": [],
   "source": [
    "def LSTM_Model(optimizer='adam'):\n",
    "    model = Sequential()\n",
    "    model.add(InputLayer(input_shape=(3, 1)))\n",
    "    model.add(Dense(64, activation='relu'))\n",
    "    model.add(Bidirectional(LSTM(128, return_sequences=True)))\n",
    "    model.add(Dropout(0.2))\n",
    "    #model.add(Bidirectional(LSTM(256, return_sequences=True)))\n",
    "    #model.add(Dropout(0.2))\n",
    "    #model.add(Flatten())\n",
    "    model.add(Dense(32, activation='relu'))\n",
    "    model.add(Dense(1, activation='sigmoid'))\n",
    "    model.compile(loss='binary_crossentropy', optimizer='adam', metrics=['accuracy'])\n",
    "    return model"
   ]
  },
  {
   "cell_type": "code",
   "execution_count": 8,
   "id": "89f3196f",
   "metadata": {},
   "outputs": [
    {
     "name": "stdout",
     "output_type": "stream",
     "text": [
      "Epoch 1/15\n",
      "1575/1575 [==============================] - 21s 11ms/step - loss: 0.5686 - accuracy: 0.6799 - val_loss: 0.5198 - val_accuracy: 0.7333\n",
      "Epoch 2/15\n",
      "1575/1575 [==============================] - 17s 11ms/step - loss: 0.4896 - accuracy: 0.7435 - val_loss: 0.4536 - val_accuracy: 0.7651\n",
      "Epoch 3/15\n",
      "1575/1575 [==============================] - 18s 11ms/step - loss: 0.4343 - accuracy: 0.7826 - val_loss: 0.3963 - val_accuracy: 0.8098\n",
      "Epoch 4/15\n",
      "1575/1575 [==============================] - 18s 12ms/step - loss: 0.3918 - accuracy: 0.8128 - val_loss: 0.3542 - val_accuracy: 0.8394\n",
      "Epoch 5/15\n",
      "1575/1575 [==============================] - 18s 11ms/step - loss: 0.3609 - accuracy: 0.8323 - val_loss: 0.3273 - val_accuracy: 0.8518\n",
      "Epoch 6/15\n",
      "1575/1575 [==============================] - 18s 12ms/step - loss: 0.3339 - accuracy: 0.8463 - val_loss: 0.2968 - val_accuracy: 0.8683\n",
      "Epoch 7/15\n",
      "1575/1575 [==============================] - 19s 12ms/step - loss: 0.3120 - accuracy: 0.8567 - val_loss: 0.2741 - val_accuracy: 0.8786\n",
      "Epoch 8/15\n",
      "1575/1575 [==============================] - 19s 12ms/step - loss: 0.2939 - accuracy: 0.8660 - val_loss: 0.2610 - val_accuracy: 0.8846\n",
      "Epoch 9/15\n",
      "1575/1575 [==============================] - 19s 12ms/step - loss: 0.2780 - accuracy: 0.8738 - val_loss: 0.2572 - val_accuracy: 0.8855\n",
      "Epoch 10/15\n",
      "1575/1575 [==============================] - 19s 12ms/step - loss: 0.2654 - accuracy: 0.8802 - val_loss: 0.2308 - val_accuracy: 0.8978\n",
      "Epoch 11/15\n",
      "1575/1575 [==============================] - 20s 12ms/step - loss: 0.2535 - accuracy: 0.8858 - val_loss: 0.2169 - val_accuracy: 0.9048\n",
      "Epoch 12/15\n",
      "1575/1575 [==============================] - 19s 12ms/step - loss: 0.2430 - accuracy: 0.8915 - val_loss: 0.2074 - val_accuracy: 0.9098\n",
      "Epoch 13/15\n",
      "1575/1575 [==============================] - 19s 12ms/step - loss: 0.2327 - accuracy: 0.8966 - val_loss: 0.1971 - val_accuracy: 0.9130\n",
      "Epoch 14/15\n",
      "1575/1575 [==============================] - 20s 13ms/step - loss: 0.2242 - accuracy: 0.9001 - val_loss: 0.1921 - val_accuracy: 0.9179\n",
      "Epoch 15/15\n",
      "1575/1575 [==============================] - 20s 12ms/step - loss: 0.2165 - accuracy: 0.9042 - val_loss: 0.1843 - val_accuracy: 0.9200\n"
     ]
    }
   ],
   "source": [
    "batch_size=128\n",
    "lstm_model = LSTM_Model()\n",
    "es = EarlyStopping(monitor='val_loss', mode='min', verbose=1, patience=10)\n",
    "lstm_hist = lstm_model.fit(X_train, y_train,\n",
    "                           validation_data=(x_test, y_test),\n",
    "                           epochs=15,\n",
    "                           steps_per_epoch=X_train.shape[0]//batch_size,\n",
    "                          callbacks=[es])"
   ]
  }
 ],
 "metadata": {
  "kernelspec": {
   "display_name": "Python 3 (ipykernel)",
   "language": "python",
   "name": "python3"
  },
  "language_info": {
   "codemirror_mode": {
    "name": "ipython",
    "version": 3
   },
   "file_extension": ".py",
   "mimetype": "text/x-python",
   "name": "python",
   "nbconvert_exporter": "python",
   "pygments_lexer": "ipython3",
   "version": "3.9.12"
  }
 },
 "nbformat": 4,
 "nbformat_minor": 5
}
